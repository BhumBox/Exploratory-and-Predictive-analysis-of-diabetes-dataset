{
 "cells": [
  {
   "cell_type": "markdown",
   "metadata": {},
   "source": [
    "# Assignment\n",
   ]
  },
  {
   "cell_type": "markdown",
   "metadata": {},
   "source": [
    "### Problem 1: Predict diabetes outcome with machine learning model"
   ]
  },
  {
   "cell_type": "code",
   "execution_count": 1,
   "metadata": {},
   "outputs": [
    {
     "data": {
      "text/html": [
       "<div>\n",
       "<style scoped>\n",
       "    .dataframe tbody tr th:only-of-type {\n",
       "        vertical-align: middle;\n",
       "    }\n",
       "\n",
       "    .dataframe tbody tr th {\n",
       "        vertical-align: top;\n",
       "    }\n",
       "\n",
       "    .dataframe thead th {\n",
       "        text-align: right;\n",
       "    }\n",
       "</style>\n",
       "<table border=\"1\" class=\"dataframe\">\n",
       "  <thead>\n",
       "    <tr style=\"text-align: right;\">\n",
       "      <th></th>\n",
       "      <th>Pregnancies</th>\n",
       "      <th>Glucose</th>\n",
       "      <th>BloodPressure</th>\n",
       "      <th>SkinThickness</th>\n",
       "      <th>Insulin</th>\n",
       "      <th>BMI</th>\n",
       "      <th>DiabetesPedigreeFunction</th>\n",
       "      <th>Age</th>\n",
       "      <th>Outcome</th>\n",
       "    </tr>\n",
       "  </thead>\n",
       "  <tbody>\n",
       "    <tr>\n",
       "      <th>0</th>\n",
       "      <td>6</td>\n",
       "      <td>148</td>\n",
       "      <td>72</td>\n",
       "      <td>35</td>\n",
       "      <td>0</td>\n",
       "      <td>33.6</td>\n",
       "      <td>0.627</td>\n",
       "      <td>50</td>\n",
       "      <td>1</td>\n",
       "    </tr>\n",
       "    <tr>\n",
       "      <th>1</th>\n",
       "      <td>1</td>\n",
       "      <td>85</td>\n",
       "      <td>66</td>\n",
       "      <td>29</td>\n",
       "      <td>0</td>\n",
       "      <td>26.6</td>\n",
       "      <td>0.351</td>\n",
       "      <td>31</td>\n",
       "      <td>0</td>\n",
       "    </tr>\n",
       "    <tr>\n",
       "      <th>2</th>\n",
       "      <td>8</td>\n",
       "      <td>183</td>\n",
       "      <td>64</td>\n",
       "      <td>0</td>\n",
       "      <td>0</td>\n",
       "      <td>23.3</td>\n",
       "      <td>0.672</td>\n",
       "      <td>32</td>\n",
       "      <td>1</td>\n",
       "    </tr>\n",
       "    <tr>\n",
       "      <th>3</th>\n",
       "      <td>1</td>\n",
       "      <td>89</td>\n",
       "      <td>66</td>\n",
       "      <td>23</td>\n",
       "      <td>94</td>\n",
       "      <td>28.1</td>\n",
       "      <td>0.167</td>\n",
       "      <td>21</td>\n",
       "      <td>0</td>\n",
       "    </tr>\n",
       "    <tr>\n",
       "      <th>4</th>\n",
       "      <td>0</td>\n",
       "      <td>137</td>\n",
       "      <td>40</td>\n",
       "      <td>35</td>\n",
       "      <td>168</td>\n",
       "      <td>43.1</td>\n",
       "      <td>2.288</td>\n",
       "      <td>33</td>\n",
       "      <td>1</td>\n",
       "    </tr>\n",
       "  </tbody>\n",
       "</table>\n",
       "</div>"
      ],
      "text/plain": [
       "   Pregnancies  Glucose  BloodPressure  SkinThickness  Insulin   BMI  \\\n",
       "0            6      148             72             35        0  33.6   \n",
       "1            1       85             66             29        0  26.6   \n",
       "2            8      183             64              0        0  23.3   \n",
       "3            1       89             66             23       94  28.1   \n",
       "4            0      137             40             35      168  43.1   \n",
       "\n",
       "   DiabetesPedigreeFunction  Age  Outcome  \n",
       "0                     0.627   50        1  \n",
       "1                     0.351   31        0  \n",
       "2                     0.672   32        1  \n",
       "3                     0.167   21        0  \n",
       "4                     2.288   33        1  "
      ]
     },
     "execution_count": 1,
     "metadata": {},
     "output_type": "execute_result"
    }
   ],
   "source": [
    "# Pima Indians Diabetes Database\n",
    "# This dataset is originally from the National Institute of Diabetes and Digestive and Kidney Diseases. \n",
    "# The objective of the dataset is to diagnostically predict whether or not a patient has diabetes, \n",
    "# based on certain diagnostic measurements included in the dataset. \n",
    "# Several constraints were placed on the selection of these instances from a larger database. \n",
    "# In particular, all patients here are females at least 21 years old of Pima Indian heritage.\n",
    "\n",
    "import pandas as pd\n",
    "import numpy as np\n",
    "import matplotlib.pyplot as plt \n",
    "import seaborn as sns\n",
    "import sklearn\n",
    "\n",
    "df = pd.read_csv('diabetes.csv')\n",
    "df.head() #prints the first 5 rows"
   ]
  },
  {
   "cell_type": "code",
   "execution_count": 2,
   "metadata": {},
   "outputs": [
    {
     "data": {
      "image/png": "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\n",
      "text/plain": [
       "<Figure size 720x720 with 2 Axes>"
      ]
     },
     "metadata": {
      "needs_background": "light"
     },
     "output_type": "display_data"
    }
   ],
   "source": [
    "# (a) using searborn heat map to show the correlation heatmap of the columns in the data frame\n",
    "#Machine learning sci kit\n",
    "plt.figure(figsize=(10,10))\n",
    "corr = df.corr()\n",
    "corr.index = corr.columns\n",
    "sns.heatmap(corr, annot = True, cmap='RdYlGn', vmin=-1, vmax=1)\n",
    "plt.title(\"Correlation Heatmap\", fontsize=16)\n",
    "plt.show()\n",
    "    "
   ]
  },
  {
   "cell_type": "code",
   "execution_count": 3,
   "metadata": {},
   "outputs": [
    {
     "data": {
      "text/html": [
       "<div>\n",
       "<style scoped>\n",
       "    .dataframe tbody tr th:only-of-type {\n",
       "        vertical-align: middle;\n",
       "    }\n",
       "\n",
       "    .dataframe tbody tr th {\n",
       "        vertical-align: top;\n",
       "    }\n",
       "\n",
       "    .dataframe thead th {\n",
       "        text-align: right;\n",
       "    }\n",
       "</style>\n",
       "<table border=\"1\" class=\"dataframe\">\n",
       "  <thead>\n",
       "    <tr style=\"text-align: right;\">\n",
       "      <th></th>\n",
       "      <th>Pregnancies</th>\n",
       "      <th>Glucose</th>\n",
       "      <th>BloodPressure</th>\n",
       "      <th>SkinThickness</th>\n",
       "      <th>Insulin</th>\n",
       "      <th>BMI</th>\n",
       "      <th>DiabetesPedigreeFunction</th>\n",
       "      <th>Age</th>\n",
       "    </tr>\n",
       "  </thead>\n",
       "  <tbody>\n",
       "    <tr>\n",
       "      <th>0</th>\n",
       "      <td>6</td>\n",
       "      <td>148</td>\n",
       "      <td>72</td>\n",
       "      <td>35</td>\n",
       "      <td>0</td>\n",
       "      <td>33.6</td>\n",
       "      <td>0.627</td>\n",
       "      <td>50</td>\n",
       "    </tr>\n",
       "    <tr>\n",
       "      <th>1</th>\n",
       "      <td>1</td>\n",
       "      <td>85</td>\n",
       "      <td>66</td>\n",
       "      <td>29</td>\n",
       "      <td>0</td>\n",
       "      <td>26.6</td>\n",
       "      <td>0.351</td>\n",
       "      <td>31</td>\n",
       "    </tr>\n",
       "    <tr>\n",
       "      <th>2</th>\n",
       "      <td>8</td>\n",
       "      <td>183</td>\n",
       "      <td>64</td>\n",
       "      <td>0</td>\n",
       "      <td>0</td>\n",
       "      <td>23.3</td>\n",
       "      <td>0.672</td>\n",
       "      <td>32</td>\n",
       "    </tr>\n",
       "    <tr>\n",
       "      <th>3</th>\n",
       "      <td>1</td>\n",
       "      <td>89</td>\n",
       "      <td>66</td>\n",
       "      <td>23</td>\n",
       "      <td>94</td>\n",
       "      <td>28.1</td>\n",
       "      <td>0.167</td>\n",
       "      <td>21</td>\n",
       "    </tr>\n",
       "    <tr>\n",
       "      <th>4</th>\n",
       "      <td>0</td>\n",
       "      <td>137</td>\n",
       "      <td>40</td>\n",
       "      <td>35</td>\n",
       "      <td>168</td>\n",
       "      <td>43.1</td>\n",
       "      <td>2.288</td>\n",
       "      <td>33</td>\n",
       "    </tr>\n",
       "  </tbody>\n",
       "</table>\n",
       "</div>"
      ],
      "text/plain": [
       "   Pregnancies  Glucose  BloodPressure  SkinThickness  Insulin   BMI  \\\n",
       "0            6      148             72             35        0  33.6   \n",
       "1            1       85             66             29        0  26.6   \n",
       "2            8      183             64              0        0  23.3   \n",
       "3            1       89             66             23       94  28.1   \n",
       "4            0      137             40             35      168  43.1   \n",
       "\n",
       "   DiabetesPedigreeFunction  Age  \n",
       "0                     0.627   50  \n",
       "1                     0.351   31  \n",
       "2                     0.672   32  \n",
       "3                     0.167   21  \n",
       "4                     2.288   33  "
      ]
     },
     "execution_count": 3,
     "metadata": {},
     "output_type": "execute_result"
    }
   ],
   "source": [
    "# (b) Create X, y dataframe/array used for machine learning\n",
    "# X: create from df with all the columns except the last column (Outcome)\n",
    "X=df.drop('Outcome', axis=1)\n",
    "X.head()"
   ]
  },
  {
   "cell_type": "code",
   "execution_count": 4,
   "metadata": {},
   "outputs": [
    {
     "data": {
      "text/html": [
       "<div>\n",
       "<style scoped>\n",
       "    .dataframe tbody tr th:only-of-type {\n",
       "        vertical-align: middle;\n",
       "    }\n",
       "\n",
       "    .dataframe tbody tr th {\n",
       "        vertical-align: top;\n",
       "    }\n",
       "\n",
       "    .dataframe thead th {\n",
       "        text-align: right;\n",
       "    }\n",
       "</style>\n",
       "<table border=\"1\" class=\"dataframe\">\n",
       "  <thead>\n",
       "    <tr style=\"text-align: right;\">\n",
       "      <th></th>\n",
       "      <th>Outcome</th>\n",
       "    </tr>\n",
       "  </thead>\n",
       "  <tbody>\n",
       "    <tr>\n",
       "      <th>0</th>\n",
       "      <td>1</td>\n",
       "    </tr>\n",
       "    <tr>\n",
       "      <th>1</th>\n",
       "      <td>0</td>\n",
       "    </tr>\n",
       "    <tr>\n",
       "      <th>2</th>\n",
       "      <td>1</td>\n",
       "    </tr>\n",
       "    <tr>\n",
       "      <th>3</th>\n",
       "      <td>0</td>\n",
       "    </tr>\n",
       "    <tr>\n",
       "      <th>4</th>\n",
       "      <td>1</td>\n",
       "    </tr>\n",
       "  </tbody>\n",
       "</table>\n",
       "</div>"
      ],
      "text/plain": [
       "   Outcome\n",
       "0        1\n",
       "1        0\n",
       "2        1\n",
       "3        0\n",
       "4        1"
      ]
     },
     "execution_count": 4,
     "metadata": {},
     "output_type": "execute_result"
    }
   ],
   "source": [
    "# (c) Create y dataframe/array used for machine learning\n",
    "# y: create from the last column (Outcome) in df\n",
    "\n",
    "y= df.drop(X, axis=1)\n",
    "y.head()"
   ]
  },
  {
   "cell_type": "code",
   "execution_count": 17,
   "metadata": {},
   "outputs": [],
   "source": [
    "# GRADED\n",
    "# (d) Create Training and Testing data: X_train, X_test, y_train, y_test\n",
    "from sklearn.model_selection import train_test_split\n",
    "X, y = df[['Pregnancies','Glucose','BloodPressure','SkinThickness','Insulin','BMI','DiabetesPedigreeFunction','Age']], df['Outcome']\n",
    "X_train, X_test, y_train, y_test = train_test_split(X, y, random_state=0)\n"
   ]
  },
  {
   "cell_type": "code",
   "execution_count": 6,
   "metadata": {},
   "outputs": [
    {
     "name": "stdout",
     "output_type": "stream",
     "text": [
      "X_train shape: (576, 8)\n",
      "y_train shape: (576,)\n"
     ]
    }
   ],
   "source": [
    "# (e) print out the shape of X_train, y_train, \n",
    "# make sure the number of rows shall be the same for both dataframes\n",
    "print(\"X_train shape: {}\".format(X_train.shape))\n",
    "print(\"y_train shape: {}\".format(y_train.shape))\n"
   ]
  },
  {
   "cell_type": "code",
   "execution_count": 7,
   "metadata": {},
   "outputs": [
    {
     "name": "stdout",
     "output_type": "stream",
     "text": [
      "X_test shape: (192, 8)\n",
      "y_test shape: (192,)\n"
     ]
    }
   ],
   "source": [
  
    "# (f) print out the shape of X_test, X_test, \n",
    "# make sure the number of rows shall be the same for both dataframes\n",
    "print(\"X_test shape: {}\".format(X_test.shape))\n",
    "print(\"y_test shape: {}\".format(y_test.shape))\n"
   ]
  },
  {
   "cell_type": "code",
   "execution_count": 8,
   "metadata": {},
   "outputs": [
    {
     "data": {
      "text/plain": [
       "DecisionTreeClassifier(class_weight=None, criterion='gini', max_depth=None,\n",
       "            max_features=None, max_leaf_nodes=None,\n",
       "            min_impurity_decrease=0.0, min_impurity_split=None,\n",
       "            min_samples_leaf=1, min_samples_split=2,\n",
       "            min_weight_fraction_leaf=0.0, presort=False, random_state=None,\n",
       "            splitter='best')"
      ]
     },
     "execution_count": 8,
     "metadata": {},
     "output_type": "execute_result"
    }
   ],
   "source": [
    
    "# (g) Build a decision tree model and train the model with X_train, y_train\n",
    "\n",
    "# Import decision tree\n",
    "from sklearn.tree import DecisionTreeClassifier\n",
    "\n",
    "# Build a decision tree model\n",
    "dtree=DecisionTreeClassifier()\n",
    "\n",
    "# Train the model\n",
    "dtree.fit(X_train, y_train)"
   ]
  },
  {
   "cell_type": "code",
   "execution_count": 9,
   "metadata": {},
   "outputs": [
    {
     "name": "stdout",
     "output_type": "stream",
     "text": [
      "prediction:\n",
      " [1 0 0 0 0 0 1 0 0 1 1 1 0 0 1 1 1 0 1 0 1 0 0 0 0 1 0 1 0 0 0 0 0 1 0 1 0\n",
      " 0 1 1 1 0 0 1 1 0 0 0 1 0 1 1 1 1 0 0 0 1 0 0 0 0 0 1 1 1 1 0 0 0 0 0 0 1\n",
      " 1 0 0 0 0 0 0 0 0 0 0 0 0 1 1 0 1 0 0 0 1 0 0 0 0 0 0 0 0 0 0 1 0 1 0 1 0\n",
      " 0 1 0 1 1 0 1 0 1 0 0 0 1 0 0 0 1 0 1 0 0 0 1 1 0 1 1 0 0 0 1 0 0 1 0 0 0\n",
      " 0 0 0 0 0 0 1 0 0 0 0 1 0 1 0 0 1 1 1 0 0 0 0 0 0 0 0 0 1 0 0 0 0 1 0 0 1\n",
      " 0 1 0 1 0 0 0]\n",
      "actual:\n",
      " [1 0 0 1 0 0 1 1 0 0 1 1 0 0 0 0 1 0 0 0 1 1 0 0 0 0 0 0 0 0 0 0 0 0 0 1 1\n",
      " 0 0 0 0 0 0 1 1 0 0 1 1 1 0 0 1 0 0 0 0 1 1 1 1 0 0 1 1 1 1 0 0 0 0 0 0 0\n",
      " 1 0 0 0 0 0 0 0 0 0 0 0 1 0 1 0 0 0 0 0 0 0 1 0 1 1 0 0 0 0 0 1 0 0 0 1 0\n",
      " 1 1 1 1 1 0 0 0 1 0 0 0 0 0 0 0 1 0 0 0 0 0 1 0 1 0 1 1 0 0 0 0 0 1 0 0 0\n",
      " 0 1 0 1 0 0 1 0 0 0 1 1 1 1 0 0 0 1 0 0 0 0 0 0 1 1 0 0 0 0 0 0 1 1 0 1 1\n",
      " 0 1 1 1 0 0 0]\n",
      "actual:\n",
      " 661    1\n",
      "122    0\n",
      "113    0\n",
      "14     1\n",
      "529    0\n",
      "103    0\n",
      "338    1\n",
      "588    1\n",
      "395    0\n",
      "204    0\n",
      "31     1\n",
      "546    1\n",
      "278    0\n",
      "593    0\n",
      "737    0\n",
      "202    0\n",
      "175    1\n",
      "55     0\n",
      "479    0\n",
      "365    0\n",
      "417    1\n",
      "577    1\n",
      "172    0\n",
      "352    0\n",
      "27     0\n",
      "605    0\n",
      "239    0\n",
      "744    0\n",
      "79     0\n",
      "496    0\n",
      "      ..\n",
      "97     0\n",
      "530    0\n",
      "327    0\n",
      "619    1\n",
      "518    0\n",
      "632    0\n",
      "524    0\n",
      "536    0\n",
      "597    0\n",
      "462    0\n",
      "17     1\n",
      "739    1\n",
      "263    0\n",
      "241    0\n",
      "344    0\n",
      "302    0\n",
      "704    0\n",
      "240    0\n",
      "170    1\n",
      "691    1\n",
      "490    0\n",
      "45     1\n",
      "750    1\n",
      "62     0\n",
      "78     1\n",
      "366    1\n",
      "301    1\n",
      "382    0\n",
      "140    0\n",
      "463    0\n",
      "Name: Outcome, Length: 192, dtype: int64\n"
     ]
    }
   ],
   "source": [
    
    "# (h) Predict outcome on testing dataset, assign prediction outcome to y_pred\n",
    "y_pred = dtree.predict(X_test) \n",
    "print('prediction:\\n {}'.format(y_pred))\n",
    "print('actual:\\n {}'.format(np.array(y_test)))\n",
    "#print('actual:\\n {}'.format(y_test))\n"
   ]
  },
  {
   "cell_type": "code",
   "execution_count": 10,
   "metadata": {},
   "outputs": [
    {
     "name": "stdout",
     "output_type": "stream",
     "text": [
      "Mean accuracy score: 0.72\n",
      "Mean Squared Error: 0.2760416666666667\n"
     ]
    }
   ],
   "source": [
    
    "# (i) Evaluate model: calculate the mean accuracy\n",
    "from sklearn.metrics import accuracy_score\n",
    "from sklearn.metrics import mean_squared_error\n",
    "print(\"Mean accuracy score: {:.2f}\".format(np.mean(y_pred==y_test)))\n",
    "print('Mean Squared Error:',mean_squared_error(y_test, y_pred))\n"
   ]
  },
  {
   "cell_type": "code",
   "execution_count": 11,
   "metadata": {},
   "outputs": [
    {
     "name": "stdout",
     "output_type": "stream",
     "text": [
      "Mean accuracy score: 0.77\n",
      "Mean Squared Error: 0.22916666666666666\n",
      "prediction:\n",
      " [1 0 0 0 0 0 1 1 0 0 1 1 0 0 0 0 1 0 0 0 0 0 0 0 0 0 0 1 0 0 0 0 0 0 0 1 1\n",
      " 0 0 1 0 0 0 1 1 0 0 0 0 0 0 0 1 1 0 0 0 0 0 0 1 1 0 1 1 0 1 0 1 0 0 0 0 1\n",
      " 1 0 0 1 0 0 0 0 0 0 0 0 0 0 1 0 0 0 0 0 1 0 1 0 0 0 0 0 0 0 1 0 0 0 0 0 0\n",
      " 0 1 1 1 1 0 1 0 1 0 0 0 0 0 0 0 0 0 1 0 0 0 1 0 0 0 0 1 0 0 0 0 0 1 0 0 0\n",
      " 0 0 0 0 0 0 1 0 1 0 0 1 1 0 0 0 1 0 0 0 0 0 0 0 0 0 1 0 0 0 0 0 0 1 0 1 0\n",
      " 0 1 0 0 0 0 0]\n",
      "actual:\n",
      " [1 0 0 1 0 0 1 1 0 0 1 1 0 0 0 0 1 0 0 0 1 1 0 0 0 0 0 0 0 0 0 0 0 0 0 1 1\n",
      " 0 0 0 0 0 0 1 1 0 0 1 1 1 0 0 1 0 0 0 0 1 1 1 1 0 0 1 1 1 1 0 0 0 0 0 0 0\n",
      " 1 0 0 0 0 0 0 0 0 0 0 0 1 0 1 0 0 0 0 0 0 0 1 0 1 1 0 0 0 0 0 1 0 0 0 1 0\n",
      " 1 1 1 1 1 0 0 0 1 0 0 0 0 0 0 0 1 0 0 0 0 0 1 0 1 0 1 1 0 0 0 0 0 1 0 0 0\n",
      " 0 1 0 1 0 0 1 0 0 0 1 1 1 1 0 0 0 1 0 0 0 0 0 0 1 1 0 0 0 0 0 0 1 1 0 1 1\n",
      " 0 1 1 1 0 0 0]\n"
     ]
    },
    {
     "name": "stderr",
     "output_type": "stream",
     "text": [
      "/anaconda3/lib/python3.7/site-packages/sklearn/ensemble/forest.py:246: FutureWarning: The default value of n_estimators will change from 10 in version 0.20 to 100 in 0.22.\n",
      "  \"10 in version 0.20 to 100 in 0.22.\", FutureWarning)\n"
     ]
    }
   ],
   "source": [
    
    "# (j) Build a Random Forrest model using default setting, train the model, predict outcome \n",
    "# and evaluate model by calculating the mean accuracy.\n",
    "#RandomForestClassifier?\n",
    "\n",
    "from sklearn.ensemble import RandomForestClassifier \n",
    "\n",
    "RF1= RandomForestClassifier()\n",
    "RF1.fit(X_train, y_train)\n",
    "y_pred = RF1.predict(X_test) \n",
    "print(\"Mean accuracy score: {:.2f}\".format(np.mean(y_pred==y_test)))\n",
    "print('Mean Squared Error:',mean_squared_error(y_test, y_pred))\n",
    "print('prediction:\\n {}'.format(y_pred))\n",
    "print('actual:\\n {}'.format(np.array(y_test)))\n"
   ]
  },
  {
   "cell_type": "code",
   "execution_count": 12,
   "metadata": {},
   "outputs": [],
   "source": [
    
    "# (k) Is the Random Forest model better than the decision tree model? why?\n",
    "\n",
    "# ANSWER:\n",
    "# Mean accuracy score and mean squared error is used compare both the models.\n",
    "\n",
    "# The mean accuracy score of -\n",
    "# Random forest model: 0.78 i.e 78%\n",
    "# Decision tree: 0.72 i.e 72%\n",
    "# The model with the higher accuracy is the better model which in this case is the Random Forest model.\n",
    "\n",
    "# The mean squared error of -\n",
    "# Random forest model: 0.2239 i.e 23.4%\n",
    "# Decision tree: 0.0.28 i.e 28%\n",
    "# The model with the higher error will make for a less suitable model. Thus the randome forest model is better as a\n",
    "# lower error rate.\n",
    "\n",
    "    "
   ]
  },
  {
   "cell_type": "code",
   "execution_count": 13,
   "metadata": {},
   "outputs": [
    {
     "name": "stdout",
     "output_type": "stream",
     "text": [
      "Mean Accuracy score: 0.79\n",
      "Mean Squared Error: 0.20833333333333334\n",
      "prediction:\n",
      " [1 0 0 1 0 0 1 1 0 0 1 1 0 0 0 0 1 0 0 0 1 0 0 0 0 0 0 1 0 0 0 0 0 1 0 1 1\n",
      " 0 0 1 0 0 0 1 1 0 0 0 0 0 0 0 1 1 0 0 0 0 0 0 1 1 0 1 1 0 1 0 1 0 0 0 0 1\n",
      " 1 0 0 1 0 0 0 0 0 0 0 0 0 0 1 0 0 0 0 0 1 0 0 0 0 1 0 0 0 0 0 1 0 1 0 1 0\n",
      " 0 1 1 1 1 0 0 0 1 0 0 0 0 0 0 0 0 0 1 0 0 0 1 0 1 0 0 0 0 0 1 0 0 1 0 0 0\n",
      " 0 0 0 0 0 0 1 0 1 0 0 1 1 0 0 0 1 0 0 0 0 0 0 0 0 0 0 0 0 0 0 0 0 1 0 1 0\n",
      " 0 1 0 0 0 0 0]\n",
      "actual:\n",
      " [1 0 0 1 0 0 1 1 0 0 1 1 0 0 0 0 1 0 0 0 1 1 0 0 0 0 0 0 0 0 0 0 0 0 0 1 1\n",
      " 0 0 0 0 0 0 1 1 0 0 1 1 1 0 0 1 0 0 0 0 1 1 1 1 0 0 1 1 1 1 0 0 0 0 0 0 0\n",
      " 1 0 0 0 0 0 0 0 0 0 0 0 1 0 1 0 0 0 0 0 0 0 1 0 1 1 0 0 0 0 0 1 0 0 0 1 0\n",
      " 1 1 1 1 1 0 0 0 1 0 0 0 0 0 0 0 1 0 0 0 0 0 1 0 1 0 1 1 0 0 0 0 0 1 0 0 0\n",
      " 0 1 0 1 0 0 1 0 0 0 1 1 1 1 0 0 0 1 0 0 0 0 0 0 1 1 0 0 0 0 0 0 1 1 0 1 1\n",
      " 0 1 1 1 0 0 0]\n"
     ]
    }
   ],
   "source": [
    
    "# (l) set n_estimators=200 in your Random Forrest model, train the model, predict outcome and evaluate model \n",
    "# by calculating the mean accuracy\n",
    "RF200= RandomForestClassifier(n_estimators=200)\n",
    "RF200.fit(X_train, y_train)\n",
    "y_pred200 = RF200.predict(X_test) \n",
    "print(\"Mean Accuracy score: {:.2f}\".format(np.mean(y_pred200==y_test)))\n",
    "print('Mean Squared Error:',mean_squared_error(y_test, y_pred200))\n",
    "print('prediction:\\n {}'.format(y_pred200))\n",
    "print('actual:\\n {}'.format(np.array(y_test)))\n"
   ]
  },
  {
   "cell_type": "code",
   "execution_count": 14,
   "metadata": {},
   "outputs": [],
   "source": [
    
    "# (m) Is this Random Forrest model better than the previous models? why?\n",
    "\n",
    "# ANSWER:\n",
    "# Like the above case, mean accuracy score and mean squared error is used compare both the models.\n",
    "\n",
    "# The mean accuracy score of -\n",
    "# Random forest model:               0.78 i.e 78%\n",
    "# Random forest (n_estimators=200):  0.79 i.e 79%\n",
    "# The model with the higher accuracy is the better model which in this case is the Random Forest model with n_estimators=200.\n",
    "\n",
    "# The mean squared error of -\n",
    "# Random forest model:               0.229 i.e 23%\n",
    "# Random forest (n_estimators=200):  0.213 i.e 21%\n",
    "# The model with the lower error values will give us more accuracy. Thus the new random forest model is better with a\n",
    "# lower error rate of 21%.\n",
    "\n"
   ]
  },
  {
   "cell_type": "code",
   "execution_count": 15,
   "metadata": {},
   "outputs": [
    {
     "ename": "NameError",
     "evalue": "name 'RF100' is not defined",
     "output_type": "error",
     "traceback": [
      "\u001b[0;31m---------------------------------------------------------------------------\u001b[0m",
      "\u001b[0;31mNameError\u001b[0m                                 Traceback (most recent call last)",
      "\u001b[0;32m<ipython-input-15-9f9c024d5d29>\u001b[0m in \u001b[0;36m<module>\u001b[0;34m\u001b[0m\n\u001b[1;32m      1\u001b[0m \u001b[0;31m# GRADED\u001b[0m\u001b[0;34m\u001b[0m\u001b[0;34m\u001b[0m\u001b[0;34m\u001b[0m\u001b[0m\n\u001b[1;32m      2\u001b[0m \u001b[0;31m# (n) Caculate the feature importance of the RF model, plot a bar chat of feature importance\u001b[0m\u001b[0;34m\u001b[0m\u001b[0;34m\u001b[0m\u001b[0;34m\u001b[0m\u001b[0m\n\u001b[0;32m----> 3\u001b[0;31m feature_importances = pd.DataFrame(RF100.feature_importances_,\n\u001b[0m\u001b[1;32m      4\u001b[0m                                    \u001b[0mindex\u001b[0m \u001b[0;34m=\u001b[0m \u001b[0mX\u001b[0m\u001b[0;34m.\u001b[0m\u001b[0mcolumns\u001b[0m\u001b[0;34m,\u001b[0m\u001b[0;34m\u001b[0m\u001b[0;34m\u001b[0m\u001b[0m\n\u001b[1;32m      5\u001b[0m                                     columns=['importance']).sort_values('importance',ascending=False)\n",
      "\u001b[0;31mNameError\u001b[0m: name 'RF100' is not defined"
     ]
    }
   ],
   "source": [
    
    "# (n) Caculate the feature importance of the RF model, plot a bar chat of feature importance\n",
    "feature_importances = pd.DataFrame(RF100.feature_importances_,\n",
    "                                   index = X.columns,\n",
    "                                    columns=['importance']).sort_values('importance',ascending=False)\n",
    "print(feature_importances)\n",
    "feature_importances.plot(kind='bar')\n"
   ]
  },
  {
   "cell_type": "code",
   "execution_count": null,
   "metadata": {},
   "outputs": [],
   "source": []
  }
 ],
 "metadata": {
  "anaconda-cloud": {},
  "kernelspec": {
   "display_name": "Python 3",
   "language": "python",
   "name": "python3"
  },
  "language_info": {
   "codemirror_mode": {
    "name": "ipython",
    "version": 3
   },
   "file_extension": ".py",
   "mimetype": "text/x-python",
   "name": "python",
   "nbconvert_exporter": "python",
   "pygments_lexer": "ipython3",
   "version": "3.7.1"
  }
 },
 "nbformat": 4,
 "nbformat_minor": 2
}
